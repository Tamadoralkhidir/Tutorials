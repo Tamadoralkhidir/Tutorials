import pandas as pd
from pymatgen.io.vasp import Poscar
from pymatgen.io.cif import CifWriter
from pymatgen.core import Lattice, Structure, Molecule 
from pymatgen.io.xyz import XYZ
Hetro = XYZ.from_file("Graphene_Nikel.xyz") #read XYX file
print(Hetro)
Hetro_df = Hetro.as_dataframe() # Convert to Data Frame
print(Hetro_df)
sites =Hetro_df[['x','y','z']].values.tolist() # Extract X Y Z coordinates
element = Hetro_df['atom'].values.tolist()# Extract the elements
lattice = Lattice.from_parameters(a=2.45617,b=2.45617,c=28,alpha=90,beta=90,gamma=120)# Set the lattice paramters
struct = Structure(lattice, element,sites,coords_are_cartesian=True)# Create the structure
w = Poscar(struct)# Convert to Poscar
w.write_file('POSCAR_in')#Write Poscar

from ase.io.cif import read_cif
from ase.io.vasp import write_vasp
from ase.io.vasp import read_vasp
from ase.constraints import FixAtoms
from ase.io import read, write
import pandas as pd
atoms= read_vasp('POSCAR_in')#read POSCAR file
c = FixAtoms(indices=[atom.index for atom in atoms if  ((atom.z < 5))] )# set constrain by z axis
atoms.set_constraint(c)# set constrain by z axis
poscar= write_vasp('POSCAR',atoms)# write POSCAR file
